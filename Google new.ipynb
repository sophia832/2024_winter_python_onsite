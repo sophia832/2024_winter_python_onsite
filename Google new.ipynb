{
 "cells": [
  {
   "cell_type": "code",
   "execution_count": 1,
   "metadata": {},
   "outputs": [],
   "source": [
    "import requests\n",
    "from bs4 import BeautifulSoup\n",
    "import pandas as pd"
   ]
  },
  {
   "cell_type": "code",
   "execution_count": 2,
   "metadata": {},
   "outputs": [],
   "source": [
    "url = \"https://news.google.com/topics/CAAqJQgKIh9DQkFTRVFvSUwyMHZNRFptTXpJU0JYcG9MVlJYS0FBUAE?hl=zh-TW&gl=TW&ceid=TW%3Azh-Hant\"\n",
    "response = requests.get(url)"
   ]
  },
  {
   "cell_type": "code",
   "execution_count": 3,
   "metadata": {},
   "outputs": [],
   "source": [
    "soup = BeautifulSoup(response.text, 'html.parser')"
   ]
  },
  {
   "cell_type": "code",
   "execution_count": 4,
   "metadata": {},
   "outputs": [
    {
     "name": "stdout",
     "output_type": "stream",
     "text": [
      "15\n"
     ]
    }
   ],
   "source": [
    "topic_elements = soup.find_all(\"div\", class_=\"W8yrY\")\n",
    "print(len(topic_elements))"
   ]
  },
  {
   "cell_type": "code",
   "execution_count": 8,
   "metadata": {},
   "outputs": [
    {
     "ename": "AttributeError",
     "evalue": "'tuple' object has no attribute 'find'",
     "output_type": "error",
     "traceback": [
      "\u001b[1;31m---------------------------------------------------------------------------\u001b[0m",
      "\u001b[1;31mAttributeError\u001b[0m                            Traceback (most recent call last)",
      "Cell \u001b[1;32mIn[8], line 3\u001b[0m\n\u001b[0;32m      1\u001b[0m list_of_news \u001b[38;5;241m=\u001b[39m \u001b[38;5;28mlist\u001b[39m()\n\u001b[0;32m      2\u001b[0m \u001b[38;5;28;01mfor\u001b[39;00m topic_element \u001b[38;5;129;01min\u001b[39;00m \u001b[38;5;28menumerate\u001b[39m(topic_elements):\n\u001b[1;32m----> 3\u001b[0m     left_side_a \u001b[38;5;241m=\u001b[39m \u001b[43mtopic_element\u001b[49m\u001b[38;5;241;43m.\u001b[39;49m\u001b[43mfind\u001b[49m(\u001b[38;5;124m'\u001b[39m\u001b[38;5;124ma\u001b[39m\u001b[38;5;124m'\u001b[39m, class_\u001b[38;5;241m=\u001b[39m\u001b[38;5;124m\"\u001b[39m\u001b[38;5;124mgPFEn\u001b[39m\u001b[38;5;124m\"\u001b[39m)\n\u001b[0;32m      4\u001b[0m     \u001b[38;5;66;03m# print(left_side_a, '\\n')\u001b[39;00m\n\u001b[0;32m      5\u001b[0m     \u001b[38;5;28mprint\u001b[39m(left_side_a\u001b[38;5;241m.\u001b[39mtext)  \u001b[38;5;66;03m# 新聞標題\u001b[39;00m\n",
      "\u001b[1;31mAttributeError\u001b[0m: 'tuple' object has no attribute 'find'"
     ]
    }
   ],
   "source": [
    "list_of_news = list()\n",
    "for topic_element in enumerate(topic_elements):\n",
    "    left_side_a = topic_element.find('a', class_=\"gPFEn\")\n",
    "    # print(left_side_a, '\\n')\n",
    "    print(left_side_a.text)  # 新聞標題\n",
    "    print(left_side_a['href'], '\\n')  # 　原新聞連結\n",
    "\n",
    "    print(len(list_of_news))"
   ]
  },
  {
   "cell_type": "code",
   "execution_count": 6,
   "metadata": {},
   "outputs": [
    {
     "ename": "SyntaxError",
     "evalue": "expected ':' (1747529137.py, line 1)",
     "output_type": "error",
     "traceback": [
      "\u001b[1;36m  Cell \u001b[1;32mIn[6], line 1\u001b[1;36m\u001b[0m\n\u001b[1;33m    for topic_element in topic_element\u001b[0m\n\u001b[1;37m                                      ^\u001b[0m\n\u001b[1;31mSyntaxError\u001b[0m\u001b[1;31m:\u001b[0m expected ':'\n"
     ]
    }
   ],
   "source": [
    "\n",
    "for topic_element in topic_element\n",
    "    #news\n",
    "    news_titles = topic_element.find_all('a', class_=\"gPEEn\")\n",
    "\n",
    "    #media\n",
    "    media = topic_element.find_all('div', class_=\"vr1PYe\")\n",
    "\n",
    "    #time\n",
    "    public_times = topic_element.find_all('time', class_=\"hvbAAd\")\n",
    "\n",
    "    for media, news_titles, public_time in zip(media, news_titles,public_times):\n",
    "        print(media.text)\n",
    "        print(news_titles.text)\n",
    "        print(public_time['datetime'])\n",
    "        print()\n",
    "    \n",
    "    list_of_news.append(\n",
    "        {\n",
    "            'topic_id': topic_id.text,\n",
    "            'media_name': media.text,\n",
    "            'title': news_title.text,\n",
    "            'url': 'https://news.google.com' + news_title['href'][1:],\n",
    "            'public_time': public_time['datetime']\n",
    "\n",
    "        }\n",
    "\n",
    "    )\n",
    "    \n",
    "    print(len(list_of_news))"
   ]
  },
  {
   "cell_type": "code",
   "execution_count": 7,
   "metadata": {},
   "outputs": [
    {
     "name": "stdout",
     "output_type": "stream",
     "text": [
      "60\n"
     ]
    },
    {
     "ename": "NameError",
     "evalue": "name 'pd' is not defined",
     "output_type": "error",
     "traceback": [
      "\u001b[1;31m---------------------------------------------------------------------------\u001b[0m",
      "\u001b[1;31mNameError\u001b[0m                                 Traceback (most recent call last)",
      "Cell \u001b[1;32mIn[7], line 28\u001b[0m\n\u001b[0;32m     15\u001b[0m         list_of_news\u001b[38;5;241m.\u001b[39mappend(\n\u001b[0;32m     16\u001b[0m             {\n\u001b[0;32m     17\u001b[0m                 \u001b[38;5;124m'\u001b[39m\u001b[38;5;124mtopic_id\u001b[39m\u001b[38;5;124m'\u001b[39m: topic_id,\n\u001b[1;32m   (...)\u001b[0m\n\u001b[0;32m     22\u001b[0m             }\n\u001b[0;32m     23\u001b[0m         )\n\u001b[0;32m     26\u001b[0m \u001b[38;5;28mprint\u001b[39m(\u001b[38;5;28mlen\u001b[39m(list_of_news))\n\u001b[1;32m---> 28\u001b[0m df \u001b[38;5;241m=\u001b[39m \u001b[43mpd\u001b[49m\u001b[38;5;241m.\u001b[39mDataFrame(list_of_news)\n\u001b[0;32m     29\u001b[0m df\u001b[38;5;241m.\u001b[39mto_csv(\u001b[38;5;124m\"\u001b[39m\u001b[38;5;124mnews.csv\u001b[39m\u001b[38;5;124m\"\u001b[39m)\n",
      "\u001b[1;31mNameError\u001b[0m: name 'pd' is not defined"
     ]
    }
   ],
   "source": [
    "list_of_news = list()\n",
    "for topic_id, topic_element in enumerate(topic_elements):\n",
    "    # 新聞標題\n",
    "    news_titles = topic_element.find_all('a', class_=\"gPFEn\")\n",
    "    # 新聞媒體\n",
    "    medias = topic_element.find_all('div', class_='vr1PYe')\n",
    "    # 發布時間\n",
    "    public_times = topic_element.find_all('time', class_='hvbAAd')\n",
    "\n",
    "    for media, news_title, public_time in zip(medias, news_titles, public_times):\n",
    "        # print(media.text)\n",
    "        # print(news_title.text)  # 新聞標題\n",
    "        # print(public_time['datetime'])\n",
    "        # print()\n",
    "        list_of_news.append(\n",
    "            {\n",
    "                'topic_id': topic_id,\n",
    "                'media_name': media.text,\n",
    "                'title': news_title.text,\n",
    "                'url': 'https://news.google.com' + news_title['href'][1:],\n",
    "                'public_time': public_time['datetime']\n",
    "            }\n",
    "        )\n",
    "\n",
    "\n",
    "print(len(list_of_news))\n",
    "\n",
    "df = pd.DataFrame(list_of_news)\n",
    "df.to_csv(\"news.csv\")"
   ]
  }
 ],
 "metadata": {
  "kernelspec": {
   "display_name": "sophia",
   "language": "python",
   "name": "python3"
  },
  "language_info": {
   "codemirror_mode": {
    "name": "ipython",
    "version": 3
   },
   "file_extension": ".py",
   "mimetype": "text/x-python",
   "name": "python",
   "nbconvert_exporter": "python",
   "pygments_lexer": "ipython3",
   "version": "3.12.7"
  }
 },
 "nbformat": 4,
 "nbformat_minor": 2
}
